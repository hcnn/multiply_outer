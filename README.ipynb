{
 "cells": [
  {
   "cell_type": "markdown",
   "metadata": {},
   "source": [
    "### Outer Product\n",
    "Let $x \\in \\mathbb{R}^{n\\times 1}$,\n",
    "and $y \\in \\mathbb{R}^{m\\times 1}$,\n",
    "with $n \\in \\mathbb{N}^+$,\n",
    "the outer product $C \\in \\mathbb{R}^{n\\times m}$ is\n",
    "\n",
    "$$\n",
    "C = x \\otimes y = x\\,y^T\n",
    "$$"
   ]
  },
  {
   "cell_type": "markdown",
   "metadata": {},
   "source": [
    "### C Implementation\n"
   ]
  },
  {
   "cell_type": "code",
   "execution_count": 1,
   "metadata": {
    "ExecuteTime": {
     "end_time": "2018-09-03T14:25:35.118481Z",
     "start_time": "2018-09-03T14:25:34.971969Z"
    }
   },
   "outputs": [
    {
     "name": "stdout",
     "output_type": "stream",
     "text": [
      "\n",
      "Cross Product:\n",
      "  1   2   3   4   5 \n",
      "  2   4   6   8  10 \n",
      "  3   6   9  12  15 \n"
     ]
    }
   ],
   "source": [
    "#include <stdio.h>\n",
    "#include <stddef.h>\n",
    "\n",
    "size_t rowidx(size_t i, size_t j, size_t ncols){\n",
    "    return i*ncols + j;\n",
    "}\n",
    "\n",
    "void multiply_outer(const double* x, const double* y, double* C, size_t n, size_t m){\n",
    "    size_t i,j;\n",
    "    double xi;\n",
    "    for(i=0; i<n; i++){\n",
    "        xi = x[i];\n",
    "        for(j=0; j<m; j++){\n",
    "            C[rowidx(i,j,m)] = xi * y[j];\n",
    "        }\n",
    "    }\n",
    "}\n",
    "\n",
    "int main(){\n",
    "    size_t n = 3;\n",
    "    double x[] = {1,2,3};\n",
    "\n",
    "    size_t m = 5;\n",
    "    double y[] = {1,2,3,4,5};\n",
    "\n",
    "    double C[n*m];\n",
    "\n",
    "    multiply_outer(x,y,C,n,m);\n",
    "\n",
    "    printf(\"\\nCross Product:\\n\");\n",
    "    size_t i,j;\n",
    "    for(i=0; i<n; i++){\n",
    "        for(j=0; j<m; j++){\n",
    "            printf(\"%3.f \", C[rowidx(i,j,m)]);\n",
    "        }\n",
    "        printf(\"\\n\");\n",
    "    }\n",
    "}"
   ]
  }
 ],
 "metadata": {
  "kernelspec": {
   "display_name": "C",
   "language": "c",
   "name": "c"
  },
  "language_info": {
   "file_extension": ".c",
   "mimetype": "text/plain",
   "name": "c"
  },
  "toc": {
   "base_numbering": 1,
   "nav_menu": {},
   "number_sections": true,
   "sideBar": true,
   "skip_h1_title": false,
   "title_cell": "Table of Contents",
   "title_sidebar": "Contents",
   "toc_cell": false,
   "toc_position": {},
   "toc_section_display": true,
   "toc_window_display": false
  },
  "varInspector": {
   "cols": {
    "lenName": 16,
    "lenType": 16,
    "lenVar": 40
   },
   "kernels_config": {
    "python": {
     "delete_cmd_postfix": "",
     "delete_cmd_prefix": "del ",
     "library": "var_list.py",
     "varRefreshCmd": "print(var_dic_list())"
    },
    "r": {
     "delete_cmd_postfix": ") ",
     "delete_cmd_prefix": "rm(",
     "library": "var_list.r",
     "varRefreshCmd": "cat(var_dic_list()) "
    }
   },
   "types_to_exclude": [
    "module",
    "function",
    "builtin_function_or_method",
    "instance",
    "_Feature"
   ],
   "window_display": false
  }
 },
 "nbformat": 4,
 "nbformat_minor": 2
}
